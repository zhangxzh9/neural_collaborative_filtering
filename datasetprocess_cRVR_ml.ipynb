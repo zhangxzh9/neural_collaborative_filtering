{
 "cells": [
  {
   "cell_type": "code",
   "execution_count": 1,
   "metadata": {},
   "outputs": [],
   "source": [
    "import numpy as np\n",
    "import pandas as pd\n",
    "\n",
    "import random\n",
    "random.seed(0)\n",
    "np.random.seed(0)"
   ]
  },
  {
   "cell_type": "code",
   "execution_count": 2,
   "metadata": {},
   "outputs": [],
   "source": [
    "origin_data_path = '/home/ubuntu/data/PEC/dataset/ml-25m/ml-25m-sample.csv'"
   ]
  },
  {
   "cell_type": "code",
   "execution_count": 4,
   "metadata": {},
   "outputs": [
    {
     "data": {
      "text/html": [
       "<div>\n",
       "<style scoped>\n",
       "    .dataframe tbody tr th:only-of-type {\n",
       "        vertical-align: middle;\n",
       "    }\n",
       "\n",
       "    .dataframe tbody tr th {\n",
       "        vertical-align: top;\n",
       "    }\n",
       "\n",
       "    .dataframe thead th {\n",
       "        text-align: right;\n",
       "    }\n",
       "</style>\n",
       "<table border=\"1\" class=\"dataframe\">\n",
       "  <thead>\n",
       "    <tr style=\"text-align: right;\">\n",
       "      <th></th>\n",
       "      <th>u</th>\n",
       "      <th>i</th>\n",
       "      <th>time</th>\n",
       "      <th>day</th>\n",
       "      <th>video_size</th>\n",
       "    </tr>\n",
       "  </thead>\n",
       "  <tbody>\n",
       "    <tr>\n",
       "      <th>0</th>\n",
       "      <td>441</td>\n",
       "      <td>15</td>\n",
       "      <td>2123</td>\n",
       "      <td>1</td>\n",
       "      <td>1</td>\n",
       "    </tr>\n",
       "    <tr>\n",
       "      <th>1</th>\n",
       "      <td>441</td>\n",
       "      <td>20</td>\n",
       "      <td>2123</td>\n",
       "      <td>1</td>\n",
       "      <td>1</td>\n",
       "    </tr>\n",
       "    <tr>\n",
       "      <th>2</th>\n",
       "      <td>441</td>\n",
       "      <td>9</td>\n",
       "      <td>2123</td>\n",
       "      <td>1</td>\n",
       "      <td>1</td>\n",
       "    </tr>\n",
       "    <tr>\n",
       "      <th>3</th>\n",
       "      <td>441</td>\n",
       "      <td>139</td>\n",
       "      <td>2123</td>\n",
       "      <td>1</td>\n",
       "      <td>1</td>\n",
       "    </tr>\n",
       "    <tr>\n",
       "      <th>4</th>\n",
       "      <td>441</td>\n",
       "      <td>312</td>\n",
       "      <td>2123</td>\n",
       "      <td>1</td>\n",
       "      <td>1</td>\n",
       "    </tr>\n",
       "    <tr>\n",
       "      <th>...</th>\n",
       "      <td>...</td>\n",
       "      <td>...</td>\n",
       "      <td>...</td>\n",
       "      <td>...</td>\n",
       "      <td>...</td>\n",
       "    </tr>\n",
       "    <tr>\n",
       "      <th>158018</th>\n",
       "      <td>880</td>\n",
       "      <td>6141</td>\n",
       "      <td>43140</td>\n",
       "      <td>29</td>\n",
       "      <td>1</td>\n",
       "    </tr>\n",
       "    <tr>\n",
       "      <th>158019</th>\n",
       "      <td>880</td>\n",
       "      <td>7973</td>\n",
       "      <td>43148</td>\n",
       "      <td>29</td>\n",
       "      <td>1</td>\n",
       "    </tr>\n",
       "    <tr>\n",
       "      <th>158020</th>\n",
       "      <td>880</td>\n",
       "      <td>9117</td>\n",
       "      <td>43148</td>\n",
       "      <td>29</td>\n",
       "      <td>1</td>\n",
       "    </tr>\n",
       "    <tr>\n",
       "      <th>158021</th>\n",
       "      <td>880</td>\n",
       "      <td>3669</td>\n",
       "      <td>43150</td>\n",
       "      <td>29</td>\n",
       "      <td>1</td>\n",
       "    </tr>\n",
       "    <tr>\n",
       "      <th>158022</th>\n",
       "      <td>880</td>\n",
       "      <td>2542</td>\n",
       "      <td>43179</td>\n",
       "      <td>29</td>\n",
       "      <td>1</td>\n",
       "    </tr>\n",
       "  </tbody>\n",
       "</table>\n",
       "<p>158023 rows × 5 columns</p>\n",
       "</div>"
      ],
      "text/plain": [
       "          u     i   time  day  video_size\n",
       "0       441    15   2123    1           1\n",
       "1       441    20   2123    1           1\n",
       "2       441     9   2123    1           1\n",
       "3       441   139   2123    1           1\n",
       "4       441   312   2123    1           1\n",
       "...     ...   ...    ...  ...         ...\n",
       "158018  880  6141  43140   29           1\n",
       "158019  880  7973  43148   29           1\n",
       "158020  880  9117  43148   29           1\n",
       "158021  880  3669  43150   29           1\n",
       "158022  880  2542  43179   29           1\n",
       "\n",
       "[158023 rows x 5 columns]"
      ]
     },
     "execution_count": 4,
     "metadata": {},
     "output_type": "execute_result"
    }
   ],
   "source": [
    "UIT_header = pd.read_csv(origin_data_path)\n",
    "UIT_header"
   ]
  },
  {
   "cell_type": "code",
   "execution_count": 5,
   "metadata": {},
   "outputs": [
    {
     "data": {
      "text/html": [
       "<div>\n",
       "<style scoped>\n",
       "    .dataframe tbody tr th:only-of-type {\n",
       "        vertical-align: middle;\n",
       "    }\n",
       "\n",
       "    .dataframe tbody tr th {\n",
       "        vertical-align: top;\n",
       "    }\n",
       "\n",
       "    .dataframe thead th {\n",
       "        text-align: right;\n",
       "    }\n",
       "</style>\n",
       "<table border=\"1\" class=\"dataframe\">\n",
       "  <thead>\n",
       "    <tr style=\"text-align: right;\">\n",
       "      <th></th>\n",
       "      <th>u</th>\n",
       "      <th>i</th>\n",
       "      <th>time</th>\n",
       "    </tr>\n",
       "  </thead>\n",
       "  <tbody>\n",
       "    <tr>\n",
       "      <th>0</th>\n",
       "      <td>441</td>\n",
       "      <td>15</td>\n",
       "      <td>2123</td>\n",
       "    </tr>\n",
       "    <tr>\n",
       "      <th>1</th>\n",
       "      <td>441</td>\n",
       "      <td>20</td>\n",
       "      <td>2123</td>\n",
       "    </tr>\n",
       "    <tr>\n",
       "      <th>2</th>\n",
       "      <td>441</td>\n",
       "      <td>9</td>\n",
       "      <td>2123</td>\n",
       "    </tr>\n",
       "    <tr>\n",
       "      <th>3</th>\n",
       "      <td>441</td>\n",
       "      <td>139</td>\n",
       "      <td>2123</td>\n",
       "    </tr>\n",
       "    <tr>\n",
       "      <th>4</th>\n",
       "      <td>441</td>\n",
       "      <td>312</td>\n",
       "      <td>2123</td>\n",
       "    </tr>\n",
       "  </tbody>\n",
       "</table>\n",
       "</div>"
      ],
      "text/plain": [
       "     u    i  time\n",
       "0  441   15  2123\n",
       "1  441   20  2123\n",
       "2  441    9  2123\n",
       "3  441  139  2123\n",
       "4  441  312  2123"
      ]
     },
     "execution_count": 5,
     "metadata": {},
     "output_type": "execute_result"
    }
   ],
   "source": [
    "UIT_header = UIT_header.drop(['video_size'], axis=1)\n",
    "UIT_header = UIT_header[['u', 'i', 'time']]\n",
    "UIT_header.head()"
   ]
  },
  {
   "cell_type": "code",
   "execution_count": 7,
   "metadata": {},
   "outputs": [
    {
     "data": {
      "text/plain": [
       "1000"
      ]
     },
     "execution_count": 7,
     "metadata": {},
     "output_type": "execute_result"
    }
   ],
   "source": [
    "len(set(UIT_header['u']))"
   ]
  },
  {
   "cell_type": "code",
   "execution_count": 8,
   "metadata": {},
   "outputs": [],
   "source": [
    "last_visited_videos = UIT_header.sort_values(by='time', ascending=False).groupby('u').first()\n",
    "last_visited_videos.reset_index(inplace=True)"
   ]
  },
  {
   "cell_type": "code",
   "execution_count": 10,
   "metadata": {},
   "outputs": [
    {
     "data": {
      "text/html": [
       "<div>\n",
       "<style scoped>\n",
       "    .dataframe tbody tr th:only-of-type {\n",
       "        vertical-align: middle;\n",
       "    }\n",
       "\n",
       "    .dataframe tbody tr th {\n",
       "        vertical-align: top;\n",
       "    }\n",
       "\n",
       "    .dataframe thead th {\n",
       "        text-align: right;\n",
       "    }\n",
       "</style>\n",
       "<table border=\"1\" class=\"dataframe\">\n",
       "  <thead>\n",
       "    <tr style=\"text-align: right;\">\n",
       "      <th></th>\n",
       "      <th>u</th>\n",
       "      <th>i</th>\n",
       "      <th>time</th>\n",
       "    </tr>\n",
       "  </thead>\n",
       "  <tbody>\n",
       "    <tr>\n",
       "      <th>0</th>\n",
       "      <td>0</td>\n",
       "      <td>702</td>\n",
       "      <td>33469</td>\n",
       "    </tr>\n",
       "    <tr>\n",
       "      <th>1</th>\n",
       "      <td>1</td>\n",
       "      <td>1713</td>\n",
       "      <td>32408</td>\n",
       "    </tr>\n",
       "    <tr>\n",
       "      <th>2</th>\n",
       "      <td>2</td>\n",
       "      <td>1837</td>\n",
       "      <td>7129</td>\n",
       "    </tr>\n",
       "    <tr>\n",
       "      <th>3</th>\n",
       "      <td>3</td>\n",
       "      <td>124</td>\n",
       "      <td>3312</td>\n",
       "    </tr>\n",
       "    <tr>\n",
       "      <th>4</th>\n",
       "      <td>4</td>\n",
       "      <td>187</td>\n",
       "      <td>2832</td>\n",
       "    </tr>\n",
       "    <tr>\n",
       "      <th>...</th>\n",
       "      <td>...</td>\n",
       "      <td>...</td>\n",
       "      <td>...</td>\n",
       "    </tr>\n",
       "    <tr>\n",
       "      <th>995</th>\n",
       "      <td>995</td>\n",
       "      <td>7784</td>\n",
       "      <td>29911</td>\n",
       "    </tr>\n",
       "    <tr>\n",
       "      <th>996</th>\n",
       "      <td>996</td>\n",
       "      <td>1700</td>\n",
       "      <td>32674</td>\n",
       "    </tr>\n",
       "    <tr>\n",
       "      <th>997</th>\n",
       "      <td>997</td>\n",
       "      <td>546</td>\n",
       "      <td>4205</td>\n",
       "    </tr>\n",
       "    <tr>\n",
       "      <th>998</th>\n",
       "      <td>998</td>\n",
       "      <td>369</td>\n",
       "      <td>2555</td>\n",
       "    </tr>\n",
       "    <tr>\n",
       "      <th>999</th>\n",
       "      <td>999</td>\n",
       "      <td>685</td>\n",
       "      <td>27916</td>\n",
       "    </tr>\n",
       "  </tbody>\n",
       "</table>\n",
       "<p>1000 rows × 3 columns</p>\n",
       "</div>"
      ],
      "text/plain": [
       "       u     i   time\n",
       "0      0   702  33469\n",
       "1      1  1713  32408\n",
       "2      2  1837   7129\n",
       "3      3   124   3312\n",
       "4      4   187   2832\n",
       "..   ...   ...    ...\n",
       "995  995  7784  29911\n",
       "996  996  1700  32674\n",
       "997  997   546   4205\n",
       "998  998   369   2555\n",
       "999  999   685  27916\n",
       "\n",
       "[1000 rows x 3 columns]"
      ]
     },
     "execution_count": 10,
     "metadata": {},
     "output_type": "execute_result"
    }
   ],
   "source": [
    "last_visited_videos"
   ]
  },
  {
   "cell_type": "code",
   "execution_count": 12,
   "metadata": {},
   "outputs": [],
   "source": [
    "last_visited_videos.to_csv('Data_cRVR/origin_user.test.rating', sep='\\t', lineterminator='\\n', index=False,header=None)"
   ]
  },
  {
   "cell_type": "code",
   "execution_count": 14,
   "metadata": {},
   "outputs": [],
   "source": [
    "for gamma in [0.01,0.025,0.05,0.075,0.1,0.25,0.5,0.75,1]:\n",
    "    last_visited_videos.to_csv(f'Data/gamma_{gamma}.test.rating', sep='\\t', lineterminator='\\n', index=False,header=None)\n"
   ]
  },
  {
   "cell_type": "code",
   "execution_count": 15,
   "metadata": {},
   "outputs": [],
   "source": [
    "import pandas as pd\n",
    "import random\n",
    "\n",
    "# 假设你有一个包含用户和视频索引的 DataFrame，命名为 df\n",
    "\n",
    "# 获取所有唯一的用户和视频索引\n",
    "unique_users = UIT_header['u'].unique()\n",
    "unique_videos = UIT_header['i'].unique()\n",
    "\n",
    "# 创建一个列表来存储用户没有访问过的视频索引\n",
    "missing_videos = {}\n",
    "\n",
    "# 遍历每个用户\n",
    "for user in unique_users:\n",
    "    # 找到该用户已经访问过的视频索引\n",
    "    visited_videos = set(UIT_header[UIT_header['u'] == user]['i'])\n",
    "    \n",
    "    # 找到用户没有访问过的视频索引\n",
    "    user_missing_videos = [video for video in unique_videos if video not in visited_videos]\n",
    "    \n",
    "    # 随机选择100个没有访问过的视频索引\n",
    "    if len(user_missing_videos) >= 100:\n",
    "        missing_videos[user] = random.sample(user_missing_videos, 100)\n",
    "    else:\n",
    "        missing_videos[user] = user_missing_videos"
   ]
  },
  {
   "cell_type": "code",
   "execution_count": 16,
   "metadata": {},
   "outputs": [
    {
     "data": {
      "text/plain": [
       "(1000, 101)"
      ]
     },
     "execution_count": 16,
     "metadata": {},
     "output_type": "execute_result"
    }
   ],
   "source": [
    "# 创建一个新的 DataFrame，包含用户索引和访问的视频索引\n",
    "testing_notwatch_records = []\n",
    "\n",
    "for index, row in last_visited_videos.iterrows():\n",
    "    user = row['u'] \n",
    "    video = row['i']\n",
    "    x = [(user,video)]\n",
    "    for not_video in missing_videos[user]:\n",
    "        x.append(not_video)\n",
    "    testing_notwatch_records.append(x)\n",
    "\n",
    "# 将训练记录转换为 DataFrame\n",
    "testing_notwatch_records = pd.DataFrame(testing_notwatch_records)\n",
    "# testing_notwatch_records[1] = testing_notwatch_records[1].apply(lambda x: ','.join(map(str, x)))\n",
    "# testing_notwatch_records[1] = testing_notwatch_records[1].str.split(',')\n",
    "# testing_notwatch_records = testing_notwatch_records.explode(1, ignore_index=True)\n",
    "\n",
    "testing_notwatch_records.shape"
   ]
  },
  {
   "cell_type": "code",
   "execution_count": 17,
   "metadata": {},
   "outputs": [],
   "source": [
    "testing_notwatch_records.to_csv('Data_cRVR/origin_user.test.negative', sep='\\t', lineterminator='\\n', index=False,header=None)"
   ]
  },
  {
   "cell_type": "code",
   "execution_count": 18,
   "metadata": {},
   "outputs": [],
   "source": [
    "for gamma in [0.01,0.025,0.05,0.075,0.1,0.25,0.5,0.75,1.0]:\n",
    "    testing_notwatch_records.to_csv(f'Data_cRVR/gamma_{gamma}.test.negative', sep='\\t', lineterminator='\\n', index=False,header=None)\n"
   ]
  },
  {
   "cell_type": "code",
   "execution_count": 19,
   "metadata": {},
   "outputs": [
    {
     "name": "stdout",
     "output_type": "stream",
     "text": [
      "(158023, 3)\n"
     ]
    }
   ],
   "source": [
    "import pandas as pd\n",
    "import random\n",
    "\n",
    "# 获取所有唯一的用户和视频索引\n",
    "unique_users = UIT_header['u'].unique()\n",
    "unique_videos = UIT_header['i'].unique()\n",
    "\n",
    "# 创建一个列表来存储用户没有访问过的视频索引\n",
    "wacth_videos = []\n",
    "\n",
    "# 遍历每个用户\n",
    "for user in unique_users:\n",
    "    # 找到该用户已经访问过的视频索引\n",
    "    visited_videos = set(UIT_header[UIT_header['u'] == user]['i'])\n",
    "    for video in visited_videos:\n",
    "        wacth_videos.append([user, video, 1.0])\n",
    "wacth_videos = pd.DataFrame(wacth_videos)\n",
    "print(wacth_videos.shape)\n",
    "wacth_videos.to_csv('Data_cRVR/origin_user.train.rating', sep='\\t', lineterminator='\\n', index=False,header=None)"
   ]
  },
  {
   "cell_type": "code",
   "execution_count": 29,
   "metadata": {},
   "outputs": [
    {
     "data": {
      "text/plain": [
       "10002"
      ]
     },
     "execution_count": 29,
     "metadata": {},
     "output_type": "execute_result"
    }
   ],
   "source": [
    "len(unique_videos)"
   ]
  },
  {
   "cell_type": "code",
   "execution_count": 44,
   "metadata": {},
   "outputs": [],
   "source": [
    "for gamma in [0.01,0.025,0.05,0.075,0.1,0.25,0.5,0.75,1.0]:\n",
    "    action_path = f\"/home/ubuntu/data/PEC/result_r_w/change_gamma/r_changeU_ecn-PEC_eds-PEC_ecn_beta_0.1_eds_gamma_{gamma}_eds_beta_0.1_a_upround_100.csv\"\n",
    "    #/home/ubuntu/data/PEC/result_r_w/change_gamma/r_changeU_ecn-PEC_eds-PEC_ecn_beta_0.1_eds_gamma_0.01_eds_beta_0.1_a_upround_100_01-12-22-43-13.csv\n",
    "    redundant_action = np.loadtxt(action_path, delimiter=\",\")\n",
    "    users_request_videos = []\n",
    "    # 遍历每个用户\n",
    "    for user in range(redundant_action.shape[0]):\n",
    "        request_videos = set(np.argwhere(redundant_action[user]>0)[:,0])\n",
    "        for video in request_videos:\n",
    "            users_request_videos.append([user, video, 1.0])\n",
    "    pd.DataFrame(users_request_videos).to_csv(f'Data_cRVR/gamma_{gamma}.train.rating', sep='\\t', lineterminator='\\n', index=False,header=None)"
   ]
  },
  {
   "cell_type": "code",
   "execution_count": 41,
   "metadata": {},
   "outputs": [],
   "source": [
    "users_request_videos = []\n",
    "# 遍历每个用户\n",
    "for user in range(redundant_action.shape[0]):\n",
    "    request_videos = set(np.argwhere(redundant_action[user]>0)[:,0])\n",
    "    for video in request_videos:\n",
    "        users_request_videos.append([user, video, 1.0])\n",
    "\n",
    "gamma = 0.1\n",
    "pd.DataFrame(users_request_videos).to_csv(f'Data_cRVR/gamma_{gamma}.train.rating', sep='\\t', lineterminator='\\n', index=False,header=None)"
   ]
  },
  {
   "cell_type": "code",
   "execution_count": null,
   "metadata": {},
   "outputs": [],
   "source": []
  },
  {
   "cell_type": "code",
   "execution_count": 13,
   "metadata": {},
   "outputs": [],
   "source": [
    "action_path = \"/home/ubuntu/data/PPF/final_state/final_actions/use/fe/09-27-14-22-15-GREED-HPP_PAC-testing-Noise:True-ce:0.01-xi:10.0-epsilon:1.0-delta:0.1-dataset:1.0.npy\"\n",
    "redundant_actions_greed =np.load(action_path)\n",
    "\n",
    "action_path = \"/home/ubuntu/data/PPF/final_state/final_actions/use/fe/09-27-14-22-09-INFOCOM-HPP_PAC-testing-Noise:True-ce:0.01-xi:10.0-epsilon:1.0-delta:0.1-dataset:1.0.npy\"\n",
    "\n",
    "redundant_actions_infocom =np.load(action_path)\n",
    "\n",
    "action_path = \"/home/ubuntu/data/PPF/final_state/final_actions/use/fe/09-27-14-22-22-RANDOM-HPP_PAC-testing-Noise:True-ce:0.01-xi:10.0-epsilon:1.0-delta:0.1-dataset:1.0.npy\"\n",
    "\n",
    "redundant_actions_random =np.load(action_path)\n",
    "\n",
    "random.seed(0)\n",
    "\n",
    "cache_actions_greed = redundant_actions_greed[:,0,:]\n",
    "cache_actions_random = redundant_actions_random[:,0,:]\n",
    "cache_actions_infocom = redundant_actions_infocom[:,0,:]\n",
    "\n",
    "assert (cache_actions_greed==cache_actions_greed).all()\n",
    "wacth_videos_greed = []\n",
    "wacth_videos_random = []\n",
    "wacth_videos_infocom = []\n",
    "ed_profile_greed = np.zeros((ED_num,content_num),dtype=np.int64)\n",
    "ed_profile_random = np.zeros((ED_num,content_num),dtype=np.int64)\n",
    "ed_profile_infocom = np.zeros((ED_num,content_num),dtype=np.int64)\n",
    "\n",
    "for ed_index in all_ED_index:\n",
    "    ed_profile_greed[ed_index] = np.where(cache_actions_greed[ed_index] > 0, 1, 0)\n",
    "    ed_profile_random[ed_index] = np.where(cache_actions_random[ed_index] > 0, 1, 0)\n",
    "    ed_profile_infocom[ed_index] = np.where(cache_actions_infocom[ed_index] > 0, 1, 0)\n",
    "\n",
    "    assert (ed_profile_greed[ed_index]==ed_profile_random[ed_index]).all()\n",
    "    request_video_greed = set(np.argwhere(ed_profile_greed[ed_index]>0)[:,0])\n",
    "    request_video_random = set(np.argwhere(ed_profile_random[ed_index]>0)[:,0])\n",
    "    request_video_infocom = set(np.argwhere(ed_profile_infocom[ed_index]>0)[:,0])\n",
    "\n",
    "    assert request_video_greed==request_video_random and request_video_greed==request_video_random\n",
    "    for video in request_video_random:\n",
    "        # if video in ed_to_video_sample[ed_index]:\n",
    "        # user = random.choice(list(ed_to_user_sample[ed_index]))\n",
    "            # for user in ed_to_user_sample[ed_index]:\n",
    "        user = random.choice(ed_to_user[ed_index])\n",
    "        wacth_videos_infocom.append([user, video, 1.0])\n",
    "        wacth_videos_random.append([user, video, 1.0])\n",
    "        wacth_videos_greed.append([user, video, 1.0])\n",
    "\n",
    "    assert (np.array(wacth_videos_greed)==np.array(wacth_videos_random)).all() and (np.array(wacth_videos_greed)==np.array(wacth_videos_infocom)).all()\n",
    "pd.DataFrame(wacth_videos_random).to_csv(f'Data/fe_greed_{0}.train.rating', sep='\\t', lineterminator='\\n', index=False,header=None)\n",
    "pd.DataFrame(wacth_videos_infocom).to_csv(f'Data/fe_infocom_{0}.train.rating', sep='\\t', lineterminator='\\n', index=False,header=None)\n",
    "pd.DataFrame(wacth_videos_greed).to_csv(f'Data/fe_random_{0}.train.rating', sep='\\t', lineterminator='\\n', index=False,header=None)"
   ]
  },
  {
   "cell_type": "code",
   "execution_count": 17,
   "metadata": {},
   "outputs": [
    {
     "name": "stdout",
     "output_type": "stream",
     "text": [
      "1 119097\n",
      "2 139883\n",
      "3 169532\n",
      "4 204643\n",
      "5 243597\n",
      "6 249861\n"
     ]
    }
   ],
   "source": [
    "# infocom fe:[1, 2, 3, 4, 5, 6]\n",
    "action_path = '/home/ubuntu/data/PPF/final_state/final_actions/use/fe/09-27-14-22-15-GREED-HPP_PAC-testing-Noise:True-ce:0.01-xi:10.0-epsilon:1.0-delta:0.1-dataset:1.0.npy'\n",
    "\n",
    "\n",
    "redundant_actions =np.load(action_path)\n",
    "\n",
    "for cache_index in range(1,redundant_actions.shape[1]):\n",
    "    cache_actions = redundant_actions[:,cache_index,:]\n",
    "    wacth_videos = []\n",
    "    ed_profile = np.zeros((ED_num,content_num),dtype=np.int64)\n",
    "    for ed_index in all_ED_index:\n",
    "        ed_profile[ed_index] = np.where(cache_actions[ed_index] > 0, 1, 0)\n",
    "        request_video = set(np.argwhere(ed_profile[ed_index]>0)[:,0])\n",
    "        for video in request_video:\n",
    "            # if video in ed_to_video_sample[ed_index]:\n",
    "            # user = random.choice(list(ed_to_user_sample[ed_index]))\n",
    "            user = random.choice(ed_to_user[ed_index])\n",
    "            wacth_videos.append([user, video, 1.0])\n",
    "    print(cache_index,len(wacth_videos))\n",
    "    pd.DataFrame(wacth_videos).to_csv(f'Data/fe_infocom_{cache_index}.train.rating', sep='\\t', lineterminator='\\n', index=False,header=None)\n"
   ]
  },
  {
   "cell_type": "code",
   "execution_count": 18,
   "metadata": {},
   "outputs": [
    {
     "name": "stdout",
     "output_type": "stream",
     "text": [
      "1 164374\n",
      "2 217984\n",
      "3 245137\n",
      "4 245851\n",
      "5 246302\n",
      "6 246358\n"
     ]
    }
   ],
   "source": [
    "# random fe:[1, 2, 3, 4, 5, 6]\n",
    "action_path ='/home/ubuntu/data/PPF/final_state/final_actions/use/fe/09-27-14-22-09-INFOCOM-HPP_PAC-testing-Noise:True-ce:0.01-xi:10.0-epsilon:1.0-delta:0.1-dataset:1.0.npy'\n",
    "\n",
    "\n",
    "redundant_actions =np.load(action_path)\n",
    "\n",
    "for cache_index in range(1,redundant_actions.shape[1]):\n",
    "    cache_actions = redundant_actions[:,cache_index,:]\n",
    "    wacth_videos = []\n",
    "    ed_profile = np.zeros((ED_num,content_num),dtype=np.int64)\n",
    "    for ed_index in all_ED_index:\n",
    "        ed_profile[ed_index] = np.where(cache_actions[ed_index] > 0, 1, 0)\n",
    "        request_video = set(np.argwhere(ed_profile[ed_index]>0)[:,0])\n",
    "        for video in request_video:\n",
    "            # if video in ed_to_video_sample[ed_index]:\n",
    "            # user = random.choice(list(ed_to_user_sample[ed_index]))\n",
    "                # for user in ed_to_user_sample[ed_index]:\n",
    "            user = random.choice(ed_to_user[ed_index])\n",
    "            wacth_videos.append([user, video, 1.0])\n",
    "    print(cache_index,len(wacth_videos))\n",
    "    pd.DataFrame(wacth_videos).to_csv(f'Data/fe_random_{cache_index}.train.rating', sep='\\t', lineterminator='\\n', index=False,header=None)\n"
   ]
  },
  {
   "cell_type": "code",
   "execution_count": 19,
   "metadata": {},
   "outputs": [
    {
     "name": "stdout",
     "output_type": "stream",
     "text": [
      "1 139121\n",
      "2 166272\n",
      "3 193398\n",
      "4 220699\n",
      "5 246056\n",
      "6 249795\n"
     ]
    }
   ],
   "source": [
    "# greed ce\n",
    "action_path = '/home/ubuntu/data/PPF/final_state/final_actions/use/fe/09-27-14-22-22-RANDOM-HPP_PAC-testing-Noise:True-ce:0.01-xi:10.0-epsilon:1.0-delta:0.1-dataset:1.0.npy'\n",
    "\n",
    "\n",
    "redundant_actions =np.load(action_path)\n",
    "\n",
    "for cache_index in range(1,redundant_actions.shape[1]):\n",
    "    cache_actions = redundant_actions[:,cache_index,:]\n",
    "    wacth_videos = []\n",
    "    ed_profile = np.zeros((ED_num,content_num),dtype=np.int64)\n",
    "    for ed_index in all_ED_index:\n",
    "        ed_profile[ed_index] = np.where(cache_actions[ed_index] > 0, 1, 0)\n",
    "        request_video = set(np.argwhere(ed_profile[ed_index]>0)[:,0])\n",
    "        for video in request_video:\n",
    "            # if video in ed_to_video_sample[ed_index]:\n",
    "            # user = random.choice(list(ed_to_user_sample[ed_index]))\n",
    "            user = random.choice(ed_to_user[ed_index])\n",
    "                # for user in ed_to_user_sample[ed_index]:\n",
    "            wacth_videos.append([user, video, 1.0])\n",
    "    print(cache_index,len(wacth_videos))\n",
    "    pd.DataFrame(wacth_videos).to_csv(f'Data/fe_greed_{cache_index}.train.rating', sep='\\t', lineterminator='\\n', index=False,header=None)\n"
   ]
  },
  {
   "cell_type": "code",
   "execution_count": 17,
   "metadata": {},
   "outputs": [],
   "source": [
    "# fifo \n",
    "action_path = \"/home/ubuntu/data/PPF/final_state/final_actions/use/fe/09-30-12-50-42-FIFO-NO_MODEL-testing-Noise:False-ce:[0.001, 0.0025, 0.005, 0.01, 0.025, 0.05, 0.1]-delta:0.1-dataset:1.0.npy\"\n",
    "\n",
    "random.seed(0)\n",
    "redundant_actions =np.load(action_path)\n",
    "\n",
    "cache_actions = redundant_actions[:,3,:]\n",
    "fifo_wacth_videos = []\n",
    "ed_profile = np.zeros((ED_num,content_num),dtype=np.int64)\n",
    "for ed_index in all_ED_index:\n",
    "    ed_profile[ed_index] = np.where(cache_actions[ed_index] > 0, 1, 0)\n",
    "    request_video = set(np.argwhere(ed_profile[ed_index]>0)[:,0])\n",
    "    for video in request_video:\n",
    "        # if video in ed_to_video_sample[ed_index]:\n",
    "        # user = random.choice(list(ed_to_user_sample[ed_index]))\n",
    "        user = random.choice(ed_to_user[ed_index])\n",
    "            # for user in ed_to_user_sample[ed_index]:\n",
    "        fifo_wacth_videos.append([user, video, 1.0])\n",
    "pd.DataFrame(fifo_wacth_videos).to_csv(f'Data/fifo.train.rating', sep='\\t', lineterminator='\\n', index=False,header=None)\n"
   ]
  },
  {
   "cell_type": "code",
   "execution_count": 18,
   "metadata": {},
   "outputs": [],
   "source": [
    "# lru\n",
    "lru_action_path = \"/home/ubuntu/data/PPF/final_state/final_actions/use/fe/09-30-12-50-50-LRU-NO_MODEL-testing-Noise:False-ce:[0.001, 0.0025, 0.005, 0.01, 0.025, 0.05, 0.1]-delta:0.1-dataset:1.0.npy\"\n",
    "\n",
    "random.seed(0)\n",
    "redundant_actions =np.load(action_path)\n",
    "\n",
    "cache_actions = redundant_actions[:,3,:]\n",
    "lru_wacth_videos = []\n",
    "ed_profile = np.zeros((ED_num,content_num),dtype=np.int64)\n",
    "for ed_index in all_ED_index:\n",
    "    ed_profile[ed_index] = np.where(cache_actions[ed_index] > 0, 1, 0)\n",
    "    request_video = set(np.argwhere(ed_profile[ed_index]>0)[:,0])\n",
    "    for video in request_video:\n",
    "        # if video in ed_to_video_sample[ed_index]:\n",
    "        # user = random.choice(list(ed_to_user_sample[ed_index]))\n",
    "        user = random.choice(ed_to_user[ed_index])\n",
    "            # for user in ed_to_user_sample[ed_index]:\n",
    "        lru_wacth_videos.append([user, video, 1.0])\n",
    "    pd.DataFrame(fifo_wacth_videos).to_csv(f'Data/lru.train.rating', sep='\\t', lineterminator='\\n', index=False,header=None)\n"
   ]
  },
  {
   "cell_type": "code",
   "execution_count": 19,
   "metadata": {},
   "outputs": [],
   "source": [
    "# lfu\n",
    "lru_action_path = \"/home/ubuntu/data/PPF/final_state/final_actions/use/fe/09-30-12-50-57-LFU-NO_MODEL-testing-Noise:False-ce:[0.001, 0.0025, 0.005, 0.01, 0.025, 0.05, 0.1]-delta:0.1-dataset:1.0.npy\"\n",
    "\n",
    "random.seed(0)\n",
    "redundant_actions =np.load(action_path)\n",
    "\n",
    "cache_actions = redundant_actions[:,3,:]\n",
    "lru_wacth_videos = []\n",
    "ed_profile = np.zeros((ED_num,content_num),dtype=np.int64)\n",
    "for ed_index in all_ED_index:\n",
    "    ed_profile[ed_index] = np.where(cache_actions[ed_index] > 0, 1, 0)\n",
    "    request_video = set(np.argwhere(ed_profile[ed_index]>0)[:,0])\n",
    "    for video in request_video:\n",
    "        # if video in ed_to_video_sample[ed_index]:\n",
    "        # user = random.choice(list(ed_to_user_sample[ed_index]))\n",
    "        user = random.choice(ed_to_user[ed_index])\n",
    "            # for user in ed_to_user_sample[ed_index]:\n",
    "        lru_wacth_videos.append([user, video, 1.0])\n",
    "    pd.DataFrame(fifo_wacth_videos).to_csv(f'Data/lru.train.rating', sep='\\t', lineterminator='\\n', index=False,header=None)\n"
   ]
  },
  {
   "cell_type": "code",
   "execution_count": 11,
   "metadata": {},
   "outputs": [
    {
     "name": "stdout",
     "output_type": "stream",
     "text": [
      "0 230835\n",
      "1 240881\n",
      "2 245185\n",
      "3 244323\n",
      "4 226458\n",
      "5 212078\n",
      "6 200909\n"
     ]
    }
   ],
   "source": [
    "# infocom xi:[5.0, 7.5, 10.0, 12.5, 15.0, 17.5, 20.0]\n",
    "action_path = \"/home/ubuntu/data/PPF/final_state/final_actions/10-01-15-22-08-INFOCOM-HPP_PAC-testing-Noise:True-fe:3-ce:0.01-xi:[5.0, 7.5, 10.0, 12.5, 15.0, 17.5, 20.0]-epsilon:1.0-dataset:1.0.npy\"\n",
    "\n",
    "redundant_actions =np.load(action_path)\n",
    "\n",
    "for cache_index in range(redundant_actions.shape[1]):\n",
    "    cache_actions = redundant_actions[:,cache_index,:]\n",
    "    wacth_videos = []\n",
    "    ed_profile = np.zeros((ED_num,content_num),dtype=np.int64)\n",
    "    for ed_index in all_ED_index:\n",
    "        ed_profile[ed_index] = np.where(cache_actions[ed_index] > 0, 1, 0)\n",
    "        request_video = set(np.argwhere(ed_profile[ed_index]>0)[:,0])\n",
    "        for video in request_video:\n",
    "            # if video in ed_to_video_sample[ed_index]:\n",
    "            # user = random.choice(list(ed_to_user_sample[ed_index]))\n",
    "            user = random.choice(ed_to_user[ed_index])\n",
    "            wacth_videos.append([user, video, 1.0])\n",
    "    print(cache_index,len(wacth_videos))\n",
    "    pd.DataFrame(wacth_videos).to_csv(f'Data/xi_infocom_{cache_index}.train.rating', sep='\\t', lineterminator='\\n', index=False,header=None)\n"
   ]
  },
  {
   "cell_type": "code",
   "execution_count": 12,
   "metadata": {},
   "outputs": [
    {
     "name": "stdout",
     "output_type": "stream",
     "text": [
      "0 247668\n",
      "1 196816\n",
      "2 159824\n",
      "3 147112\n",
      "4 134781\n",
      "5 130474\n",
      "6 126209\n"
     ]
    }
   ],
   "source": [
    "# GREED xi:[5.0, 7.5, 10.0, 12.5, 15.0, 17.5, 20.0]\n",
    "action_path = \"/home/ubuntu/data/PPF/final_state/final_actions/10-01-15-22-00-GREED-HPP_PAC-testing-Noise:True-fe:3-ce:0.01-xi:[5.0, 7.5, 10.0, 12.5, 15.0, 17.5, 20.0]-epsilon:1.0-dataset:1.0.npy\"\n",
    "\n",
    "redundant_actions =np.load(action_path)\n",
    "\n",
    "for cache_index in range(0,redundant_actions.shape[1]):\n",
    "    cache_actions = redundant_actions[:,cache_index,:]\n",
    "    wacth_videos = []\n",
    "    ed_profile = np.zeros((ED_num,content_num),dtype=np.int64)\n",
    "    for ed_index in all_ED_index:\n",
    "        ed_profile[ed_index] = np.where(cache_actions[ed_index] > 0, 1, 0)\n",
    "        request_video = set(np.argwhere(ed_profile[ed_index]>0)[:,0])\n",
    "        for video in request_video:\n",
    "            # if video in ed_to_video_sample[ed_index]:\n",
    "            # user = random.choice(list(ed_to_user_sample[ed_index]))\n",
    "                # for user in ed_to_user_sample[ed_index]:\n",
    "            user = random.choice(ed_to_user[ed_index])\n",
    "            wacth_videos.append([user, video, 1.0])\n",
    "    print(cache_index,len(wacth_videos))\n",
    "    pd.DataFrame(wacth_videos).to_csv(f'Data/xi_greed_{cache_index}.train.rating', sep='\\t', lineterminator='\\n', index=False,header=None)\n"
   ]
  },
  {
   "cell_type": "code",
   "execution_count": 13,
   "metadata": {},
   "outputs": [
    {
     "name": "stdout",
     "output_type": "stream",
     "text": [
      "0 246951\n",
      "1 214906\n",
      "2 184752\n",
      "3 173268\n",
      "4 161729\n",
      "5 156106\n",
      "6 149928\n"
     ]
    }
   ],
   "source": [
    "# random  xi:[5.0, 7.5, 10.0, 12.5, 15.0, 17.5, 20.0]\n",
    "action_path = '/home/ubuntu/data/PPF/final_state/final_actions/10-01-15-21-54-RANDOM-HPP_PAC-testing-Noise:True-fe:3-ce:0.01-xi:[5.0, 7.5, 10.0, 12.5, 15.0, 17.5, 20.0]-epsilon:1.0-dataset:1.0.npy'\n",
    "\n",
    "redundant_actions =np.load(action_path)\n",
    "\n",
    "for cache_index in range(0,redundant_actions.shape[1]):\n",
    "    cache_actions = redundant_actions[:,cache_index,:]\n",
    "    wacth_videos = []\n",
    "    ed_profile = np.zeros((ED_num,content_num),dtype=np.int64)\n",
    "    for ed_index in all_ED_index:\n",
    "        ed_profile[ed_index] = np.where(cache_actions[ed_index] > 0, 1, 0)\n",
    "        request_video = set(np.argwhere(ed_profile[ed_index]>0)[:,0])\n",
    "        for video in request_video:\n",
    "            # if video in ed_to_video_sample[ed_index]:\n",
    "            # user = random.choice(list(ed_to_user_sample[ed_index]))\n",
    "            user = random.choice(ed_to_user[ed_index])\n",
    "                # for user in ed_to_user_sample[ed_index]:\n",
    "            wacth_videos.append([user, video, 1.0])\n",
    "    print(cache_index,len(wacth_videos))\n",
    "    pd.DataFrame(wacth_videos).to_csv(f'Data/xi_random_{cache_index}.train.rating', sep='\\t', lineterminator='\\n', index=False,header=None)\n"
   ]
  },
  {
   "cell_type": "code",
   "execution_count": null,
   "metadata": {},
   "outputs": [],
   "source": []
  }
 ],
 "metadata": {
  "kernelspec": {
   "display_name": "NCF",
   "language": "python",
   "name": "python3"
  },
  "language_info": {
   "codemirror_mode": {
    "name": "ipython",
    "version": 3
   },
   "file_extension": ".py",
   "mimetype": "text/x-python",
   "name": "python",
   "nbconvert_exporter": "python",
   "pygments_lexer": "ipython3",
   "version": "3.11.5"
  },
  "orig_nbformat": 4
 },
 "nbformat": 4,
 "nbformat_minor": 2
}
