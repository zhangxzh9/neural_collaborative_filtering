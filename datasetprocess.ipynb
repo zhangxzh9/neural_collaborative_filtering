{
 "cells": [
  {
   "cell_type": "code",
   "execution_count": 1,
   "metadata": {},
   "outputs": [],
   "source": [
    "import numpy as np\n",
    "import pandas as pd\n",
    "\n",
    "import random\n",
    "random.seed(0)\n",
    "np.random.seed(0)"
   ]
  },
  {
   "cell_type": "code",
   "execution_count": 2,
   "metadata": {},
   "outputs": [],
   "source": [
    "origin_data_path = '/home/ubuntu/data/PPF/datasets/UIT_ED_25_I_10000.csv'"
   ]
  },
  {
   "cell_type": "code",
   "execution_count": 3,
   "metadata": {},
   "outputs": [
    {
     "data": {
      "text/html": [
       "<div>\n",
       "<style scoped>\n",
       "    .dataframe tbody tr th:only-of-type {\n",
       "        vertical-align: middle;\n",
       "    }\n",
       "\n",
       "    .dataframe tbody tr th {\n",
       "        vertical-align: top;\n",
       "    }\n",
       "\n",
       "    .dataframe thead th {\n",
       "        text-align: right;\n",
       "    }\n",
       "</style>\n",
       "<table border=\"1\" class=\"dataframe\">\n",
       "  <thead>\n",
       "    <tr style=\"text-align: right;\">\n",
       "      <th></th>\n",
       "      <th>ed</th>\n",
       "      <th>u</th>\n",
       "      <th>i</th>\n",
       "      <th>time</th>\n",
       "    </tr>\n",
       "  </thead>\n",
       "  <tbody>\n",
       "    <tr>\n",
       "      <th>380641</th>\n",
       "      <td>20</td>\n",
       "      <td>2942</td>\n",
       "      <td>7777</td>\n",
       "      <td>14400</td>\n",
       "    </tr>\n",
       "    <tr>\n",
       "      <th>380642</th>\n",
       "      <td>14</td>\n",
       "      <td>5451</td>\n",
       "      <td>4550</td>\n",
       "      <td>14400</td>\n",
       "    </tr>\n",
       "    <tr>\n",
       "      <th>380643</th>\n",
       "      <td>13</td>\n",
       "      <td>9197</td>\n",
       "      <td>6496</td>\n",
       "      <td>14400</td>\n",
       "    </tr>\n",
       "    <tr>\n",
       "      <th>380644</th>\n",
       "      <td>15</td>\n",
       "      <td>4133</td>\n",
       "      <td>5828</td>\n",
       "      <td>14400</td>\n",
       "    </tr>\n",
       "    <tr>\n",
       "      <th>380645</th>\n",
       "      <td>14</td>\n",
       "      <td>626</td>\n",
       "      <td>9694</td>\n",
       "      <td>14400</td>\n",
       "    </tr>\n",
       "  </tbody>\n",
       "</table>\n",
       "</div>"
      ],
      "text/plain": [
       "        ed     u     i   time\n",
       "380641  20  2942  7777  14400\n",
       "380642  14  5451  4550  14400\n",
       "380643  13  9197  6496  14400\n",
       "380644  15  4133  5828  14400\n",
       "380645  14   626  9694  14400"
      ]
     },
     "execution_count": 3,
     "metadata": {},
     "output_type": "execute_result"
    }
   ],
   "source": [
    "UIT_header = pd.read_csv(origin_data_path, header = None)\n",
    "UIT_header.columns = ['u', 'i', 'day', 'type', 'ed', 'time']\n",
    "UIT_header = UIT_header[UIT_header['day']>=10]\n",
    "UIT_header = UIT_header.drop(['type', 'day'], axis=1)\n",
    "UIT_header = UIT_header[['ed','u', 'i', 'time']]\n",
    "UIT_header.head()"
   ]
  },
  {
   "cell_type": "code",
   "execution_count": 4,
   "metadata": {},
   "outputs": [
    {
     "data": {
      "text/plain": [
       "((527232, 4), 0)"
      ]
     },
     "execution_count": 4,
     "metadata": {},
     "output_type": "execute_result"
    }
   ],
   "source": [
    "\n",
    "\n",
    "# 假设你有一个包含用户和视频索引的 DataFrame，命名为 df\n",
    "\n",
    "# 获取所有唯一的用户和视频索引\n",
    "unique_users = UIT_header['u'].unique()\n",
    "unique_videos = UIT_header['i'].unique()\n",
    "all_ED_index = set(UIT_header['ed'].unique())\n",
    "ED_num = 25\n",
    "content_num = 10000\n",
    "\n",
    "ed_to_user = {}\n",
    "for ed in UIT_header['ed'].unique():\n",
    "    ed_to_user[ed] = []\n",
    "\n",
    "for group_key, group_value in UIT_header.groupby(['u','ed']):\n",
    "    ed = group_key[1]\n",
    "    user = group_key[0]\n",
    "    ed_to_user[ed].append(user)\n",
    "\n",
    "ed_to_user_sample = {}\n",
    "ed_to_video_sample = {}\n",
    "sample_user = set()\n",
    "# for ed in ed_to_user.keys():\n",
    "#     ed_to_user_sample[ed] = set(random.sample(ed_to_user[ed], 400))\n",
    "#     ed_to_video_sample[ed] = set(UIT_header[UIT_header[\"u\"].isin(ed_to_user_sample[ed])][\"i\"])\n",
    "#     sample_user = sample_user | ed_to_user_sample[ed]\n",
    "# UIT_header = UIT_header[UIT_header['u'].isin(sample_user)]\n",
    "UIT_header.shape, len(sample_user)"
   ]
  },
  {
   "cell_type": "code",
   "execution_count": 6,
   "metadata": {},
   "outputs": [],
   "source": [
    "last_visited_videos = UIT_header.sort_values(by='time', ascending=False).groupby('u').first()\n",
    "last_visited_videos.reset_index(inplace=True)\n",
    "last_visited_videos=last_visited_videos.drop(['ed'], axis=1)"
   ]
  },
  {
   "cell_type": "code",
   "execution_count": 6,
   "metadata": {},
   "outputs": [],
   "source": [
    "last_visited_videos.to_csv('Data/origin_user.test.rating', sep='\\t', lineterminator='\\n', index=False,header=None)"
   ]
  },
  {
   "cell_type": "code",
   "execution_count": 7,
   "metadata": {},
   "outputs": [],
   "source": [
    "for f_e in range(7):\n",
    "    last_visited_videos.to_csv(f'Data/fe_infocom_{f_e}.test.rating', sep='\\t', lineterminator='\\n', index=False,header=None)\n",
    "    last_visited_videos.to_csv(f'Data/fe_random_{f_e}.test.rating', sep='\\t', lineterminator='\\n', index=False,header=None)\n",
    "    last_visited_videos.to_csv(f'Data/fe_greed_{f_e}.test.rating', sep='\\t', lineterminator='\\n', index=False,header=None)\n",
    "last_visited_videos.to_csv(f'Data/lru.test.rating', sep='\\t', lineterminator='\\n', index=False,header=None)\n",
    "last_visited_videos.to_csv(f'Data/fifo.test.rating', sep='\\t', lineterminator='\\n', index=False,header=None)\n",
    "last_visited_videos.to_csv(f'Data/lfu.test.rating', sep='\\t', lineterminator='\\n', index=False,header=None)"
   ]
  },
  {
   "cell_type": "code",
   "execution_count": 7,
   "metadata": {},
   "outputs": [],
   "source": [
    "for xi in range(7):\n",
    "    last_visited_videos.to_csv(f'Data/xi_infocom_{xi}.test.rating', sep='\\t', lineterminator='\\n', index=False,header=None)\n",
    "    last_visited_videos.to_csv(f'Data/xi_random_{xi}.test.rating', sep='\\t', lineterminator='\\n', index=False,header=None)\n",
    "    last_visited_videos.to_csv(f'Data/xi_greed_{xi}.test.rating', sep='\\t', lineterminator='\\n', index=False,header=None)"
   ]
  },
  {
   "cell_type": "code",
   "execution_count": 8,
   "metadata": {},
   "outputs": [],
   "source": [
    "import pandas as pd\n",
    "import random\n",
    "\n",
    "# 假设你有一个包含用户和视频索引的 DataFrame，命名为 df\n",
    "\n",
    "# 获取所有唯一的用户和视频索引\n",
    "unique_users = UIT_header['u'].unique()\n",
    "unique_videos = UIT_header['i'].unique()\n",
    "\n",
    "# 创建一个列表来存储用户没有访问过的视频索引\n",
    "missing_videos = {}\n",
    "\n",
    "# 遍历每个用户\n",
    "for user in unique_users:\n",
    "    # 找到该用户已经访问过的视频索引\n",
    "    visited_videos = set(UIT_header[UIT_header['u'] == user]['i'])\n",
    "    \n",
    "    # 找到用户没有访问过的视频索引\n",
    "    user_missing_videos = [video for video in unique_videos if video not in visited_videos]\n",
    "    \n",
    "    # 随机选择100个没有访问过的视频索引\n",
    "    if len(user_missing_videos) >= 100:\n",
    "        missing_videos[user] = random.sample(user_missing_videos, 100)\n",
    "    else:\n",
    "        missing_videos[user] = user_missing_videos"
   ]
  },
  {
   "cell_type": "code",
   "execution_count": 9,
   "metadata": {},
   "outputs": [
    {
     "data": {
      "text/plain": [
       "(9610, 101)"
      ]
     },
     "execution_count": 9,
     "metadata": {},
     "output_type": "execute_result"
    }
   ],
   "source": [
    "# 创建一个新的 DataFrame，包含用户索引和访问的视频索引\n",
    "testing_notwatch_records = []\n",
    "\n",
    "for index, row in last_visited_videos.iterrows():\n",
    "    user = row['u'] \n",
    "    video = row['i']\n",
    "    x = [(user,video)]\n",
    "    for not_video in missing_videos[user]:\n",
    "        x.append(not_video)\n",
    "    testing_notwatch_records.append(x)\n",
    "\n",
    "# 将训练记录转换为 DataFrame\n",
    "testing_notwatch_records = pd.DataFrame(testing_notwatch_records)\n",
    "# testing_notwatch_records[1] = testing_notwatch_records[1].apply(lambda x: ','.join(map(str, x)))\n",
    "# testing_notwatch_records[1] = testing_notwatch_records[1].str.split(',')\n",
    "# testing_notwatch_records = testing_notwatch_records.explode(1, ignore_index=True)\n",
    "\n",
    "testing_notwatch_records.shape"
   ]
  },
  {
   "cell_type": "code",
   "execution_count": 10,
   "metadata": {},
   "outputs": [],
   "source": [
    "testing_notwatch_records.to_csv('Data/origin_user.test.negative', sep='\\t', lineterminator='\\n', index=False,header=None)"
   ]
  },
  {
   "cell_type": "code",
   "execution_count": 11,
   "metadata": {},
   "outputs": [],
   "source": [
    "for f_e in range(7):\n",
    "    testing_notwatch_records.to_csv(f'Data/fe_infocom_{f_e}.test.negative', sep='\\t', lineterminator='\\n', index=False,header=None)\n",
    "    testing_notwatch_records.to_csv(f'Data/fe_random_{f_e}.test.negative', sep='\\t', lineterminator='\\n', index=False,header=None)\n",
    "    testing_notwatch_records.to_csv(f'Data/fe_greed_{f_e}.test.negative', sep='\\t', lineterminator='\\n', index=False,header=None)\n",
    "testing_notwatch_records.to_csv(f'Data/lru.test.negative', sep='\\t', lineterminator='\\n', index=False,header=None)\n",
    "testing_notwatch_records.to_csv(f'Data/lfu.test.negative', sep='\\t', lineterminator='\\n', index=False,header=None)\n",
    "testing_notwatch_records.to_csv(f'Data/fifo.test.negative', sep='\\t', lineterminator='\\n', index=False,header=None)\n"
   ]
  },
  {
   "cell_type": "code",
   "execution_count": 10,
   "metadata": {},
   "outputs": [],
   "source": [
    "for xi in range(7):\n",
    "    testing_notwatch_records.to_csv(f'Data/xi_infocom_{xi}.test.negative', sep='\\t', lineterminator='\\n', index=False,header=None)\n",
    "    testing_notwatch_records.to_csv(f'Data/xi_random_{xi}.test.negative', sep='\\t', lineterminator='\\n', index=False,header=None)\n",
    "    testing_notwatch_records.to_csv(f'Data/xi_greed_{xi}.test.negative', sep='\\t', lineterminator='\\n', index=False,header=None)"
   ]
  },
  {
   "cell_type": "code",
   "execution_count": 12,
   "metadata": {},
   "outputs": [
    {
     "name": "stdout",
     "output_type": "stream",
     "text": [
      "(412906, 3)\n"
     ]
    }
   ],
   "source": [
    "import pandas as pd\n",
    "import random\n",
    "\n",
    "# 获取所有唯一的用户和视频索引\n",
    "unique_users = UIT_header['u'].unique()\n",
    "unique_videos = UIT_header['i'].unique()\n",
    "\n",
    "# 创建一个列表来存储用户没有访问过的视频索引\n",
    "wacth_videos = []\n",
    "\n",
    "# 遍历每个用户\n",
    "for user in unique_users:\n",
    "    # 找到该用户已经访问过的视频索引\n",
    "    visited_videos = set(UIT_header[UIT_header['u'] == user]['i'])\n",
    "    for video in visited_videos:\n",
    "        wacth_videos.append([user, video, 1.0])\n",
    "wacth_videos = pd.DataFrame(wacth_videos)\n",
    "print(wacth_videos.shape)\n",
    "wacth_videos.to_csv('Data/origin_user.train.rating', sep='\\t', lineterminator='\\n', index=False,header=None)"
   ]
  },
  {
   "cell_type": "code",
   "execution_count": 13,
   "metadata": {},
   "outputs": [],
   "source": [
    "action_path = \"/home/ubuntu/data/PPF/final_state/final_actions/use/fe/09-27-14-22-15-GREED-HPP_PAC-testing-Noise:True-ce:0.01-xi:10.0-epsilon:1.0-delta:0.1-dataset:1.0.npy\"\n",
    "redundant_actions_greed =np.load(action_path)\n",
    "\n",
    "action_path = \"/home/ubuntu/data/PPF/final_state/final_actions/use/fe/09-27-14-22-09-INFOCOM-HPP_PAC-testing-Noise:True-ce:0.01-xi:10.0-epsilon:1.0-delta:0.1-dataset:1.0.npy\"\n",
    "\n",
    "redundant_actions_infocom =np.load(action_path)\n",
    "\n",
    "action_path = \"/home/ubuntu/data/PPF/final_state/final_actions/use/fe/09-27-14-22-22-RANDOM-HPP_PAC-testing-Noise:True-ce:0.01-xi:10.0-epsilon:1.0-delta:0.1-dataset:1.0.npy\"\n",
    "\n",
    "redundant_actions_random =np.load(action_path)\n",
    "\n",
    "random.seed(0)\n",
    "\n",
    "cache_actions_greed = redundant_actions_greed[:,0,:]\n",
    "cache_actions_random = redundant_actions_random[:,0,:]\n",
    "cache_actions_infocom = redundant_actions_infocom[:,0,:]\n",
    "\n",
    "assert (cache_actions_greed==cache_actions_greed).all()\n",
    "wacth_videos_greed = []\n",
    "wacth_videos_random = []\n",
    "wacth_videos_infocom = []\n",
    "ed_profile_greed = np.zeros((ED_num,content_num),dtype=np.int64)\n",
    "ed_profile_random = np.zeros((ED_num,content_num),dtype=np.int64)\n",
    "ed_profile_infocom = np.zeros((ED_num,content_num),dtype=np.int64)\n",
    "\n",
    "for ed_index in all_ED_index:\n",
    "    ed_profile_greed[ed_index] = np.where(cache_actions_greed[ed_index] > 0, 1, 0)\n",
    "    ed_profile_random[ed_index] = np.where(cache_actions_random[ed_index] > 0, 1, 0)\n",
    "    ed_profile_infocom[ed_index] = np.where(cache_actions_infocom[ed_index] > 0, 1, 0)\n",
    "\n",
    "    assert (ed_profile_greed[ed_index]==ed_profile_random[ed_index]).all()\n",
    "    request_video_greed = set(np.argwhere(ed_profile_greed[ed_index]>0)[:,0])\n",
    "    request_video_random = set(np.argwhere(ed_profile_random[ed_index]>0)[:,0])\n",
    "    request_video_infocom = set(np.argwhere(ed_profile_infocom[ed_index]>0)[:,0])\n",
    "\n",
    "    assert request_video_greed==request_video_random and request_video_greed==request_video_random\n",
    "    for video in request_video_random:\n",
    "        # if video in ed_to_video_sample[ed_index]:\n",
    "        # user = random.choice(list(ed_to_user_sample[ed_index]))\n",
    "            # for user in ed_to_user_sample[ed_index]:\n",
    "        user = random.choice(ed_to_user[ed_index])\n",
    "        wacth_videos_infocom.append([user, video, 1.0])\n",
    "        wacth_videos_random.append([user, video, 1.0])\n",
    "        wacth_videos_greed.append([user, video, 1.0])\n",
    "\n",
    "    assert (np.array(wacth_videos_greed)==np.array(wacth_videos_random)).all() and (np.array(wacth_videos_greed)==np.array(wacth_videos_infocom)).all()\n",
    "pd.DataFrame(wacth_videos_random).to_csv(f'Data/fe_greed_{0}.train.rating', sep='\\t', lineterminator='\\n', index=False,header=None)\n",
    "pd.DataFrame(wacth_videos_infocom).to_csv(f'Data/fe_infocom_{0}.train.rating', sep='\\t', lineterminator='\\n', index=False,header=None)\n",
    "pd.DataFrame(wacth_videos_greed).to_csv(f'Data/fe_random_{0}.train.rating', sep='\\t', lineterminator='\\n', index=False,header=None)"
   ]
  },
  {
   "cell_type": "code",
   "execution_count": 17,
   "metadata": {},
   "outputs": [
    {
     "name": "stdout",
     "output_type": "stream",
     "text": [
      "1 119097\n",
      "2 139883\n",
      "3 169532\n",
      "4 204643\n",
      "5 243597\n",
      "6 249861\n"
     ]
    }
   ],
   "source": [
    "# infocom fe:[1, 2, 3, 4, 5, 6]\n",
    "action_path = '/home/ubuntu/data/PPF/final_state/final_actions/use/fe/09-27-14-22-15-GREED-HPP_PAC-testing-Noise:True-ce:0.01-xi:10.0-epsilon:1.0-delta:0.1-dataset:1.0.npy'\n",
    "\n",
    "\n",
    "redundant_actions =np.load(action_path)\n",
    "\n",
    "for cache_index in range(1,redundant_actions.shape[1]):\n",
    "    cache_actions = redundant_actions[:,cache_index,:]\n",
    "    wacth_videos = []\n",
    "    ed_profile = np.zeros((ED_num,content_num),dtype=np.int64)\n",
    "    for ed_index in all_ED_index:\n",
    "        ed_profile[ed_index] = np.where(cache_actions[ed_index] > 0, 1, 0)\n",
    "        request_video = set(np.argwhere(ed_profile[ed_index]>0)[:,0])\n",
    "        for video in request_video:\n",
    "            # if video in ed_to_video_sample[ed_index]:\n",
    "            # user = random.choice(list(ed_to_user_sample[ed_index]))\n",
    "            user = random.choice(ed_to_user[ed_index])\n",
    "            wacth_videos.append([user, video, 1.0])\n",
    "    print(cache_index,len(wacth_videos))\n",
    "    pd.DataFrame(wacth_videos).to_csv(f'Data/fe_infocom_{cache_index}.train.rating', sep='\\t', lineterminator='\\n', index=False,header=None)\n"
   ]
  },
  {
   "cell_type": "code",
   "execution_count": 18,
   "metadata": {},
   "outputs": [
    {
     "name": "stdout",
     "output_type": "stream",
     "text": [
      "1 164374\n",
      "2 217984\n",
      "3 245137\n",
      "4 245851\n",
      "5 246302\n",
      "6 246358\n"
     ]
    }
   ],
   "source": [
    "# random fe:[1, 2, 3, 4, 5, 6]\n",
    "action_path ='/home/ubuntu/data/PPF/final_state/final_actions/use/fe/09-27-14-22-09-INFOCOM-HPP_PAC-testing-Noise:True-ce:0.01-xi:10.0-epsilon:1.0-delta:0.1-dataset:1.0.npy'\n",
    "\n",
    "\n",
    "redundant_actions =np.load(action_path)\n",
    "\n",
    "for cache_index in range(1,redundant_actions.shape[1]):\n",
    "    cache_actions = redundant_actions[:,cache_index,:]\n",
    "    wacth_videos = []\n",
    "    ed_profile = np.zeros((ED_num,content_num),dtype=np.int64)\n",
    "    for ed_index in all_ED_index:\n",
    "        ed_profile[ed_index] = np.where(cache_actions[ed_index] > 0, 1, 0)\n",
    "        request_video = set(np.argwhere(ed_profile[ed_index]>0)[:,0])\n",
    "        for video in request_video:\n",
    "            # if video in ed_to_video_sample[ed_index]:\n",
    "            # user = random.choice(list(ed_to_user_sample[ed_index]))\n",
    "                # for user in ed_to_user_sample[ed_index]:\n",
    "            user = random.choice(ed_to_user[ed_index])\n",
    "            wacth_videos.append([user, video, 1.0])\n",
    "    print(cache_index,len(wacth_videos))\n",
    "    pd.DataFrame(wacth_videos).to_csv(f'Data/fe_random_{cache_index}.train.rating', sep='\\t', lineterminator='\\n', index=False,header=None)\n"
   ]
  },
  {
   "cell_type": "code",
   "execution_count": 19,
   "metadata": {},
   "outputs": [
    {
     "name": "stdout",
     "output_type": "stream",
     "text": [
      "1 139121\n",
      "2 166272\n",
      "3 193398\n",
      "4 220699\n",
      "5 246056\n",
      "6 249795\n"
     ]
    }
   ],
   "source": [
    "# greed ce\n",
    "action_path = '/home/ubuntu/data/PPF/final_state/final_actions/use/fe/09-27-14-22-22-RANDOM-HPP_PAC-testing-Noise:True-ce:0.01-xi:10.0-epsilon:1.0-delta:0.1-dataset:1.0.npy'\n",
    "\n",
    "\n",
    "redundant_actions =np.load(action_path)\n",
    "\n",
    "for cache_index in range(1,redundant_actions.shape[1]):\n",
    "    cache_actions = redundant_actions[:,cache_index,:]\n",
    "    wacth_videos = []\n",
    "    ed_profile = np.zeros((ED_num,content_num),dtype=np.int64)\n",
    "    for ed_index in all_ED_index:\n",
    "        ed_profile[ed_index] = np.where(cache_actions[ed_index] > 0, 1, 0)\n",
    "        request_video = set(np.argwhere(ed_profile[ed_index]>0)[:,0])\n",
    "        for video in request_video:\n",
    "            # if video in ed_to_video_sample[ed_index]:\n",
    "            # user = random.choice(list(ed_to_user_sample[ed_index]))\n",
    "            user = random.choice(ed_to_user[ed_index])\n",
    "                # for user in ed_to_user_sample[ed_index]:\n",
    "            wacth_videos.append([user, video, 1.0])\n",
    "    print(cache_index,len(wacth_videos))\n",
    "    pd.DataFrame(wacth_videos).to_csv(f'Data/fe_greed_{cache_index}.train.rating', sep='\\t', lineterminator='\\n', index=False,header=None)\n"
   ]
  },
  {
   "cell_type": "code",
   "execution_count": 17,
   "metadata": {},
   "outputs": [],
   "source": [
    "# fifo \n",
    "action_path = \"/home/ubuntu/data/PPF/final_state/final_actions/use/fe/09-30-12-50-42-FIFO-NO_MODEL-testing-Noise:False-ce:[0.001, 0.0025, 0.005, 0.01, 0.025, 0.05, 0.1]-delta:0.1-dataset:1.0.npy\"\n",
    "\n",
    "random.seed(0)\n",
    "redundant_actions =np.load(action_path)\n",
    "\n",
    "cache_actions = redundant_actions[:,3,:]\n",
    "fifo_wacth_videos = []\n",
    "ed_profile = np.zeros((ED_num,content_num),dtype=np.int64)\n",
    "for ed_index in all_ED_index:\n",
    "    ed_profile[ed_index] = np.where(cache_actions[ed_index] > 0, 1, 0)\n",
    "    request_video = set(np.argwhere(ed_profile[ed_index]>0)[:,0])\n",
    "    for video in request_video:\n",
    "        # if video in ed_to_video_sample[ed_index]:\n",
    "        # user = random.choice(list(ed_to_user_sample[ed_index]))\n",
    "        user = random.choice(ed_to_user[ed_index])\n",
    "            # for user in ed_to_user_sample[ed_index]:\n",
    "        fifo_wacth_videos.append([user, video, 1.0])\n",
    "pd.DataFrame(fifo_wacth_videos).to_csv(f'Data/fifo.train.rating', sep='\\t', lineterminator='\\n', index=False,header=None)\n"
   ]
  },
  {
   "cell_type": "code",
   "execution_count": 18,
   "metadata": {},
   "outputs": [],
   "source": [
    "# lru\n",
    "lru_action_path = \"/home/ubuntu/data/PPF/final_state/final_actions/use/fe/09-30-12-50-50-LRU-NO_MODEL-testing-Noise:False-ce:[0.001, 0.0025, 0.005, 0.01, 0.025, 0.05, 0.1]-delta:0.1-dataset:1.0.npy\"\n",
    "\n",
    "random.seed(0)\n",
    "redundant_actions =np.load(action_path)\n",
    "\n",
    "cache_actions = redundant_actions[:,3,:]\n",
    "lru_wacth_videos = []\n",
    "ed_profile = np.zeros((ED_num,content_num),dtype=np.int64)\n",
    "for ed_index in all_ED_index:\n",
    "    ed_profile[ed_index] = np.where(cache_actions[ed_index] > 0, 1, 0)\n",
    "    request_video = set(np.argwhere(ed_profile[ed_index]>0)[:,0])\n",
    "    for video in request_video:\n",
    "        # if video in ed_to_video_sample[ed_index]:\n",
    "        # user = random.choice(list(ed_to_user_sample[ed_index]))\n",
    "        user = random.choice(ed_to_user[ed_index])\n",
    "            # for user in ed_to_user_sample[ed_index]:\n",
    "        lru_wacth_videos.append([user, video, 1.0])\n",
    "    pd.DataFrame(fifo_wacth_videos).to_csv(f'Data/lru.train.rating', sep='\\t', lineterminator='\\n', index=False,header=None)\n"
   ]
  },
  {
   "cell_type": "code",
   "execution_count": 19,
   "metadata": {},
   "outputs": [],
   "source": [
    "# lfu\n",
    "lru_action_path = \"/home/ubuntu/data/PPF/final_state/final_actions/use/fe/09-30-12-50-57-LFU-NO_MODEL-testing-Noise:False-ce:[0.001, 0.0025, 0.005, 0.01, 0.025, 0.05, 0.1]-delta:0.1-dataset:1.0.npy\"\n",
    "\n",
    "random.seed(0)\n",
    "redundant_actions =np.load(action_path)\n",
    "\n",
    "cache_actions = redundant_actions[:,3,:]\n",
    "lru_wacth_videos = []\n",
    "ed_profile = np.zeros((ED_num,content_num),dtype=np.int64)\n",
    "for ed_index in all_ED_index:\n",
    "    ed_profile[ed_index] = np.where(cache_actions[ed_index] > 0, 1, 0)\n",
    "    request_video = set(np.argwhere(ed_profile[ed_index]>0)[:,0])\n",
    "    for video in request_video:\n",
    "        # if video in ed_to_video_sample[ed_index]:\n",
    "        # user = random.choice(list(ed_to_user_sample[ed_index]))\n",
    "        user = random.choice(ed_to_user[ed_index])\n",
    "            # for user in ed_to_user_sample[ed_index]:\n",
    "        lru_wacth_videos.append([user, video, 1.0])\n",
    "    pd.DataFrame(fifo_wacth_videos).to_csv(f'Data/lru.train.rating', sep='\\t', lineterminator='\\n', index=False,header=None)\n"
   ]
  },
  {
   "cell_type": "code",
   "execution_count": 11,
   "metadata": {},
   "outputs": [
    {
     "name": "stdout",
     "output_type": "stream",
     "text": [
      "0 230835\n",
      "1 240881\n",
      "2 245185\n",
      "3 244323\n",
      "4 226458\n",
      "5 212078\n",
      "6 200909\n"
     ]
    }
   ],
   "source": [
    "# infocom xi:[5.0, 7.5, 10.0, 12.5, 15.0, 17.5, 20.0]\n",
    "action_path = \"/home/ubuntu/data/PPF/final_state/final_actions/10-01-15-22-08-INFOCOM-HPP_PAC-testing-Noise:True-fe:3-ce:0.01-xi:[5.0, 7.5, 10.0, 12.5, 15.0, 17.5, 20.0]-epsilon:1.0-dataset:1.0.npy\"\n",
    "\n",
    "redundant_actions =np.load(action_path)\n",
    "\n",
    "for cache_index in range(redundant_actions.shape[1]):\n",
    "    cache_actions = redundant_actions[:,cache_index,:]\n",
    "    wacth_videos = []\n",
    "    ed_profile = np.zeros((ED_num,content_num),dtype=np.int64)\n",
    "    for ed_index in all_ED_index:\n",
    "        ed_profile[ed_index] = np.where(cache_actions[ed_index] > 0, 1, 0)\n",
    "        request_video = set(np.argwhere(ed_profile[ed_index]>0)[:,0])\n",
    "        for video in request_video:\n",
    "            # if video in ed_to_video_sample[ed_index]:\n",
    "            # user = random.choice(list(ed_to_user_sample[ed_index]))\n",
    "            user = random.choice(ed_to_user[ed_index])\n",
    "            wacth_videos.append([user, video, 1.0])\n",
    "    print(cache_index,len(wacth_videos))\n",
    "    pd.DataFrame(wacth_videos).to_csv(f'Data/xi_infocom_{cache_index}.train.rating', sep='\\t', lineterminator='\\n', index=False,header=None)\n"
   ]
  },
  {
   "cell_type": "code",
   "execution_count": 12,
   "metadata": {},
   "outputs": [
    {
     "name": "stdout",
     "output_type": "stream",
     "text": [
      "0 247668\n",
      "1 196816\n",
      "2 159824\n",
      "3 147112\n",
      "4 134781\n",
      "5 130474\n",
      "6 126209\n"
     ]
    }
   ],
   "source": [
    "# GREED xi:[5.0, 7.5, 10.0, 12.5, 15.0, 17.5, 20.0]\n",
    "action_path = \"/home/ubuntu/data/PPF/final_state/final_actions/10-01-15-22-00-GREED-HPP_PAC-testing-Noise:True-fe:3-ce:0.01-xi:[5.0, 7.5, 10.0, 12.5, 15.0, 17.5, 20.0]-epsilon:1.0-dataset:1.0.npy\"\n",
    "\n",
    "redundant_actions =np.load(action_path)\n",
    "\n",
    "for cache_index in range(0,redundant_actions.shape[1]):\n",
    "    cache_actions = redundant_actions[:,cache_index,:]\n",
    "    wacth_videos = []\n",
    "    ed_profile = np.zeros((ED_num,content_num),dtype=np.int64)\n",
    "    for ed_index in all_ED_index:\n",
    "        ed_profile[ed_index] = np.where(cache_actions[ed_index] > 0, 1, 0)\n",
    "        request_video = set(np.argwhere(ed_profile[ed_index]>0)[:,0])\n",
    "        for video in request_video:\n",
    "            # if video in ed_to_video_sample[ed_index]:\n",
    "            # user = random.choice(list(ed_to_user_sample[ed_index]))\n",
    "                # for user in ed_to_user_sample[ed_index]:\n",
    "            user = random.choice(ed_to_user[ed_index])\n",
    "            wacth_videos.append([user, video, 1.0])\n",
    "    print(cache_index,len(wacth_videos))\n",
    "    pd.DataFrame(wacth_videos).to_csv(f'Data/xi_greed_{cache_index}.train.rating', sep='\\t', lineterminator='\\n', index=False,header=None)\n"
   ]
  },
  {
   "cell_type": "code",
   "execution_count": 13,
   "metadata": {},
   "outputs": [
    {
     "name": "stdout",
     "output_type": "stream",
     "text": [
      "0 246951\n",
      "1 214906\n",
      "2 184752\n",
      "3 173268\n",
      "4 161729\n",
      "5 156106\n",
      "6 149928\n"
     ]
    }
   ],
   "source": [
    "# random  xi:[5.0, 7.5, 10.0, 12.5, 15.0, 17.5, 20.0]\n",
    "action_path = '/home/ubuntu/data/PPF/final_state/final_actions/10-01-15-21-54-RANDOM-HPP_PAC-testing-Noise:True-fe:3-ce:0.01-xi:[5.0, 7.5, 10.0, 12.5, 15.0, 17.5, 20.0]-epsilon:1.0-dataset:1.0.npy'\n",
    "\n",
    "redundant_actions =np.load(action_path)\n",
    "\n",
    "for cache_index in range(0,redundant_actions.shape[1]):\n",
    "    cache_actions = redundant_actions[:,cache_index,:]\n",
    "    wacth_videos = []\n",
    "    ed_profile = np.zeros((ED_num,content_num),dtype=np.int64)\n",
    "    for ed_index in all_ED_index:\n",
    "        ed_profile[ed_index] = np.where(cache_actions[ed_index] > 0, 1, 0)\n",
    "        request_video = set(np.argwhere(ed_profile[ed_index]>0)[:,0])\n",
    "        for video in request_video:\n",
    "            # if video in ed_to_video_sample[ed_index]:\n",
    "            # user = random.choice(list(ed_to_user_sample[ed_index]))\n",
    "            user = random.choice(ed_to_user[ed_index])\n",
    "                # for user in ed_to_user_sample[ed_index]:\n",
    "            wacth_videos.append([user, video, 1.0])\n",
    "    print(cache_index,len(wacth_videos))\n",
    "    pd.DataFrame(wacth_videos).to_csv(f'Data/xi_random_{cache_index}.train.rating', sep='\\t', lineterminator='\\n', index=False,header=None)\n"
   ]
  },
  {
   "cell_type": "code",
   "execution_count": null,
   "metadata": {},
   "outputs": [],
   "source": []
  }
 ],
 "metadata": {
  "kernelspec": {
   "display_name": "NCF",
   "language": "python",
   "name": "python3"
  },
  "language_info": {
   "codemirror_mode": {
    "name": "ipython",
    "version": 3
   },
   "file_extension": ".py",
   "mimetype": "text/x-python",
   "name": "python",
   "nbconvert_exporter": "python",
   "pygments_lexer": "ipython3",
   "version": "3.11.5"
  },
  "orig_nbformat": 4
 },
 "nbformat": 4,
 "nbformat_minor": 2
}
